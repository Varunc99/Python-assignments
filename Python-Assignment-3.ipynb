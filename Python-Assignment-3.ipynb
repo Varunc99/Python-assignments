{
 "cells": [
  {
   "cell_type": "markdown",
   "id": "e704e1ce",
   "metadata": {},
   "source": [
    "# # Assignment No3\n"
   ]
  },
  {
   "cell_type": "code",
   "execution_count": 1,
   "id": "46f786d8",
   "metadata": {},
   "outputs": [
    {
     "name": "stdout",
     "output_type": "stream",
     "text": [
      "Enter a four digit number 3456\n",
      "Number of zeroes 0\n",
      "Number of odds 2\n",
      "Number of even 2\n"
     ]
    }
   ],
   "source": [
    "#Q1. Write A program to accept Four digit number from user and count zero , odd and even digits from the entered number\n",
    "\n",
    "a = 0\n",
    "b = 0\n",
    "c = 0\n",
    "num = input(\"Enter a four digit number \")\n",
    "l=len(num)\n",
    "if l != 4:\n",
    "    print(\"Wrong input\")\n",
    "else:\n",
    "    for i in num:\n",
    "        if int(i) == 0:\n",
    "            a= a+1\n",
    "        elif int(i)%2!=0:\n",
    "            b= b+1\n",
    "        elif int(i)%2==0:\n",
    "            c=c+1\n",
    "print('Number of zeroes',a)\n",
    "print('Number of odds',b)\n",
    "print('Number of even',c)"
   ]
  },
  {
   "cell_type": "code",
   "execution_count": 2,
   "id": "a7ff5e4a",
   "metadata": {},
   "outputs": [
    {
     "name": "stdout",
     "output_type": "stream",
     "text": [
      "1505\n",
      "1540\n",
      "1575\n",
      "1610\n",
      "1645\n",
      "1680\n",
      "1715\n",
      "1750\n",
      "1785\n",
      "1820\n",
      "1855\n",
      "1890\n",
      "1925\n",
      "1960\n",
      "1995\n",
      "2030\n",
      "2065\n",
      "2100\n",
      "2135\n",
      "2170\n",
      "2205\n",
      "2240\n",
      "2275\n",
      "2310\n",
      "2345\n",
      "2380\n",
      "2415\n",
      "2450\n",
      "2485\n",
      "2520\n",
      "2555\n",
      "2590\n",
      "2625\n",
      "2660\n",
      "2695\n"
     ]
    }
   ],
   "source": [
    "#Q2. Write a Python program to find those numbers which are divisible by 7 and multiple of 5, between 1500 and 2700 (both included)\n",
    "\n",
    "a= 0\n",
    "for a in range(1500,2700):\n",
    "    if(a%7==0 and a%5==0):\n",
    "        print(a)\n"
   ]
  },
  {
   "cell_type": "code",
   "execution_count": 3,
   "id": "bbb34417",
   "metadata": {},
   "outputs": [
    {
     "name": "stdout",
     "output_type": "stream",
     "text": [
      "Please enter temperature40\n",
      "Please enter unit of temp C or FC\n",
      "104.0\n"
     ]
    }
   ],
   "source": [
    "#Q.Write a Python program to convert temperatures to and from celsius, fahrenheit. Go to the editor [ Formula : c/5 = f-32/9 [ where c = temperature in celsius and f = temperature in fahrenheit ] \n",
    "#Expected Output : 60°C is 140 in Fahrenheit 45°F is 7 in Celsius\n",
    "\n",
    "a=input(\"Please enter temperature\")\n",
    "b=input(\"Please enter unit of temp C or F\")\n",
    "\n",
    "if b=='C':\n",
    "    d=((int(a)*9)/5)+32\n",
    "    print(d)\n",
    "elif b=='F':\n",
    "    e=((int(a)-32)/9)*5\n",
    "    print(e)\n",
    "\n"
   ]
  },
  {
   "cell_type": "code",
   "execution_count": 5,
   "id": "961bb12a",
   "metadata": {},
   "outputs": [
    {
     "name": "stdout",
     "output_type": "stream",
     "text": [
      "enter a wordsdf\n"
     ]
    },
    {
     "data": {
      "text/plain": [
       "'fds'"
      ]
     },
     "execution_count": 5,
     "metadata": {},
     "output_type": "execute_result"
    }
   ],
   "source": [
    "# Q.4 Write a Python program that accepts a word from the user and reverse it.\n",
    "\n",
    "a= input(\"enter a word\")\n",
    "b=a[::-1]\n",
    "b"
   ]
  },
  {
   "cell_type": "code",
   "execution_count": 6,
   "id": "1142d25f",
   "metadata": {},
   "outputs": [
    {
     "name": "stdout",
     "output_type": "stream",
     "text": [
      "0\n",
      "1\n",
      "1\n",
      "2\n",
      "3\n",
      "5\n",
      "8\n",
      "13\n",
      "21\n",
      "34\n",
      "55\n",
      "89\n",
      "144\n",
      "233\n",
      "377\n",
      "610\n",
      "987\n",
      "1597\n",
      "2584\n",
      "4181\n",
      "6765\n",
      "10946\n",
      "17711\n",
      "28657\n",
      "46368\n",
      "75025\n",
      "121393\n",
      "196418\n",
      "317811\n",
      "514229\n",
      "832040\n",
      "1346269\n",
      "2178309\n",
      "3524578\n",
      "5702887\n",
      "9227465\n",
      "14930352\n",
      "24157817\n",
      "39088169\n",
      "63245986\n",
      "102334155\n",
      "165580141\n",
      "267914296\n",
      "433494437\n",
      "701408733\n",
      "1134903170\n",
      "1836311903\n",
      "2971215073\n",
      "4807526976\n",
      "7778742049\n"
     ]
    }
   ],
   "source": [
    "# Q.5 Write a Python program to get the Fibonacci series between 0 to 50. \n",
    "#Go to the editor Note : The Fibonacci Sequence is the series of numbers : 0, 1, 1, 2, 3, 5, 8, 13, 21, .... \n",
    "#Every next number is found by adding up the two numbers before it. Expected Output : 1 1 2 3 5 8 13 21 344\n",
    "\n",
    "a = 0\n",
    "b = 1\n",
    "print(a)\n",
    "print(b)\n",
    "for i in range(2,50):\n",
    "    c = a + b\n",
    "    a = b\n",
    "    b = c\n",
    "    print(c)\n",
    "\n",
    "\n"
   ]
  },
  {
   "cell_type": "code",
   "execution_count": 7,
   "id": "cbcd906c",
   "metadata": {},
   "outputs": [
    {
     "name": "stdout",
     "output_type": "stream",
     "text": [
      "Enter the charactera\n",
      "a is vowel\n"
     ]
    }
   ],
   "source": [
    "# Q.6 Write a Python program to check whether an alphabet is a vowel or consonant.\n",
    "ch = str(input('Enter the character'))\n",
    "if(ch == 'a' or ch == 'i' or ch == 'e' or ch == 'o' or ch == 'u'):\n",
    "    print(ch, 'is vowel')\n",
    "else:\n",
    "    print(ch,'is consonant')"
   ]
  },
  {
   "cell_type": "code",
   "execution_count": 8,
   "id": "2ae34789",
   "metadata": {},
   "outputs": [
    {
     "name": "stdout",
     "output_type": "stream",
     "text": [
      "enter num1 33\n",
      "enter num2 44\n",
      "not between 15-20\n"
     ]
    }
   ],
   "source": [
    "# Q.7 Write a Python program to sum of two given integers. However, if the sum is between 15 to 20 it will return\n",
    "\n",
    "a= int(input(\"enter num1 \"))\n",
    "b= int(input(\"enter num2 \"))\n",
    "c=a+b\n",
    "if(c>=15 and c<=20):\n",
    "    print(c)\n",
    "else:\n",
    "    print(\"not between 15-20\")"
   ]
  },
  {
   "cell_type": "code",
   "execution_count": 10,
   "id": "26ec7aee",
   "metadata": {},
   "outputs": [
    {
     "name": "stdout",
     "output_type": "stream",
     "text": [
      "Number of inputs: 4\n",
      "01\n",
      "13\n",
      "25\n",
      "36\n",
      "45\n",
      "[1, 3, 5, 6, 5]\n",
      "Minimium value is: 1\n",
      "Max value is : 6\n"
     ]
    }
   ],
   "source": [
    "# Q.8 Write a program to accept ‘n’ numbers from user , store these numbers into an array. Find out maximum and minimum number from an Array.\n",
    "\n",
    "a= int(input(\"Number of inputs: \"))\n",
    "b=[]\n",
    "for i in range(0,a+1):\n",
    "    c=int(input(i))\n",
    "    b.append(c)\n",
    "print(b)\n",
    "\n",
    "print(\"Minimium value is:\",min(b))\n",
    "print(\"Max value is :\",max(b))"
   ]
  },
  {
   "cell_type": "code",
   "execution_count": 2,
   "id": "b8e76f46",
   "metadata": {},
   "outputs": [
    {
     "name": "stdout",
     "output_type": "stream",
     "text": [
      "welcome to Varun Librery\n",
      "MENU\n",
      "1. ADD BOOK INFORMATION \n",
      "2. DISPLAY BOOK INFORMATION \n",
      "3. LIST ALL BOOKS OF GIVEN AUTHOR\n",
      "4. LIST THE COUNT OF BOOKS IN THE LIBRARY\n",
      "5. Exit\n",
      "\n",
      "Enter your Choice: 3\n",
      "MENU\n",
      "1. ADD BOOK INFORMATION \n",
      "2. DISPLAY BOOK INFORMATION \n",
      "3. LIST ALL BOOKS OF GIVEN AUTHOR\n",
      "4. LIST THE COUNT OF BOOKS IN THE LIBRARY\n",
      "5. Exit\n",
      "\n",
      "Enter your Choice: \n"
     ]
    },
    {
     "ename": "ValueError",
     "evalue": "invalid literal for int() with base 10: ''",
     "output_type": "error",
     "traceback": [
      "\u001b[1;31m---------------------------------------------------------------------------\u001b[0m",
      "\u001b[1;31mValueError\u001b[0m                                Traceback (most recent call last)",
      "\u001b[1;32m~\\AppData\\Local\\Temp/ipykernel_15516/1807360222.py\u001b[0m in \u001b[0;36m<module>\u001b[1;34m\u001b[0m\n\u001b[0;32m     25\u001b[0m     \u001b[0mprint\u001b[0m\u001b[1;33m(\u001b[0m\u001b[1;34m\"4. LIST THE COUNT OF BOOKS IN THE LIBRARY\"\u001b[0m\u001b[1;33m)\u001b[0m\u001b[1;33m\u001b[0m\u001b[1;33m\u001b[0m\u001b[0m\n\u001b[0;32m     26\u001b[0m     \u001b[0mprint\u001b[0m\u001b[1;33m(\u001b[0m\u001b[1;34m\"5. Exit\"\u001b[0m\u001b[1;33m)\u001b[0m\u001b[1;33m\u001b[0m\u001b[1;33m\u001b[0m\u001b[0m\n\u001b[1;32m---> 27\u001b[1;33m     \u001b[0musers_choice\u001b[0m \u001b[1;33m=\u001b[0m \u001b[0mint\u001b[0m\u001b[1;33m(\u001b[0m\u001b[0minput\u001b[0m\u001b[1;33m(\u001b[0m\u001b[1;34m\"\\nEnter your Choice: \"\u001b[0m\u001b[1;33m)\u001b[0m\u001b[1;33m)\u001b[0m\u001b[1;33m\u001b[0m\u001b[1;33m\u001b[0m\u001b[0m\n\u001b[0m\u001b[0;32m     28\u001b[0m \u001b[1;33m\u001b[0m\u001b[0m\n",
      "\u001b[1;31mValueError\u001b[0m: invalid literal for int() with base 10: ''"
     ]
    }
   ],
   "source": [
    "#Q.9 Write a menu driven program that shows the working of a library. \n",
    "#The menu option should be --ADD BOOK INFORMATION --DISPLAY BOOK INFORMATION --LIST ALL BOOKS OF \n",
    "#GIVEN AUTHOR --LIST THE COUNT OF BOOKS IN THE LIBRARY --EXIT\n",
    "\n",
    "def Book_info(a, b):  \n",
    "    int=input(\"Book Name\")\n",
    "    int=input(\"Author Name\")\n",
    "def Dispay_info(a, b):  \n",
    "    difference = a - b  \n",
    "    print(a, \"-\", b, \"=\", difference)  \n",
    "\n",
    "def Author(a, b):  \n",
    "    product = a * b  \n",
    "    print(a, \"x\", b, \"=\", product)  \n",
    "def Total_count(a, b):  \n",
    "    division = a / b  \n",
    "    print(a, \"/\", b, \"=\", division)\n",
    "    \n",
    "print('welcome to Varun Librery')\n",
    "while True:  \n",
    "    print(\"MENU\")  \n",
    "    print(\"1. ADD BOOK INFORMATION \")  \n",
    "    print(\"2. DISPLAY BOOK INFORMATION \")  \n",
    "    print(\"3. LIST ALL BOOKS OF GIVEN AUTHOR\")  \n",
    "    print(\"4. LIST THE COUNT OF BOOKS IN THE LIBRARY\")  \n",
    "    print(\"5. Exit\")  \n",
    "    users_choice = int(input(\"\\nEnter your Choice: \"))\n",
    "\n"
   ]
  },
  {
   "cell_type": "code",
   "execution_count": 3,
   "id": "27bf43a2",
   "metadata": {},
   "outputs": [
    {
     "name": "stdout",
     "output_type": "stream",
     "text": [
      "Number of inputs: 3\n",
      "04\n",
      "15\n",
      "26\n",
      "37\n",
      "[4, 5, 6, 7]\n",
      "[4, 5, 6, 7]\n"
     ]
    }
   ],
   "source": [
    "# Q.10 Write a program to accept ‘n’ numbers from user , store these numbers into an array and sort the numbers of an array using function.\n",
    "\n",
    "a= int(input(\"Number of inputs: \"))\n",
    "b=[]\n",
    "for i in range(0,a+1):\n",
    "    c=int(input(i))\n",
    "    b.append(c)\n",
    "print(b)\n",
    "\n",
    "c= sorted(b)\n",
    "print(c)"
   ]
  },
  {
   "cell_type": "code",
   "execution_count": null,
   "id": "d86d0720",
   "metadata": {},
   "outputs": [],
   "source": [
    "#Q.11 Write a program to accept customer details such as : Account_no, Name, Balance in Acount, Assume Maximum 20 Customer In the bank. \n",
    "#Write a function to print the account no and name of each customer with balance below rs 100.\n",
    "\n",
    "class bank:\n",
    "    def accept_details():\n",
    "        acc_no= int(input(\"enter acc. no\"))\n",
    "        name=input(\"enter name\")\n",
    "        balance=int(input(\"enter acc. balance\"))\n",
    "    def display_details():\n",
    "            print(\"acc. no \",acc_no)\n",
    "            print(\"name \",name)\n",
    "            print(\"balance \",balance)\n",
    "            \n"
   ]
  },
  {
   "cell_type": "code",
   "execution_count": 4,
   "id": "a7999c49",
   "metadata": {},
   "outputs": [
    {
     "name": "stdout",
     "output_type": "stream",
     "text": [
      "enter namesdad\n",
      "0f\n",
      "1s\n",
      "2g\n",
      "3g\n",
      "4g\n",
      "['f', 's', 'g', 'g', 'g']\n",
      "['f', 'g', 'g', 'g', 's']\n"
     ]
    }
   ],
   "source": [
    "# Q.12 Write a program to accept 5 names from user and store these names into an array sort these array element in alphabetical order.\n",
    "\n",
    "name=(input(\"enter names\"))\n",
    "lst=[]\n",
    "for i in range(0,5):\n",
    "    c=(input(i))\n",
    "    lst.append(c)\n",
    "print(lst)\n",
    "\n",
    "c= sorted(lst)\n",
    "print(c)\n"
   ]
  },
  {
   "cell_type": "code",
   "execution_count": 5,
   "id": "85e2125e",
   "metadata": {},
   "outputs": [
    {
     "name": "stdout",
     "output_type": "stream",
     "text": [
      "Enter a no.34\n",
      "7\n"
     ]
    }
   ],
   "source": [
    "# Q.13 Write a program to calculate the sum of digits of a given number.\n",
    "\n",
    "def getSum(n):\n",
    "  \n",
    "    sum = 0\n",
    "    while (n != 0):\n",
    "  \n",
    "        sum = sum + int(n % 10)\n",
    "        n = int(n/10)\n",
    "  \n",
    "    return sum\n",
    "n =int(input(\"Enter a no.\"))\n",
    "print(getSum(n))"
   ]
  },
  {
   "cell_type": "code",
   "execution_count": 8,
   "id": "3e20c544",
   "metadata": {},
   "outputs": [
    {
     "name": "stdout",
     "output_type": "stream",
     "text": [
      "enter a no.34\n",
      "sum of 1st and last digit is  7\n"
     ]
    }
   ],
   "source": [
    "# Q.14 Write a program to calculate the sum of first digit and last digit of a given number\n",
    "\n",
    "n= int(input(\"enter a no.\"))\n",
    "num=str(n)\n",
    "first=int(num[0])\n",
    "last=int(num[-1])\n",
    "print(\"sum of 1st and last digit is \",first+last)"
   ]
  },
  {
   "cell_type": "code",
   "execution_count": 9,
   "id": "cbc2ec75",
   "metadata": {},
   "outputs": [
    {
     "name": "stdout",
     "output_type": "stream",
     "text": [
      "Enter the String: \n",
      "aeiuyyhtgcf\n",
      "\n",
      "String after removing Vowels: \n",
      "yyhtgcf\n"
     ]
    }
   ],
   "source": [
    "# Q.15 Write a program to accept a string from user , delete all vowels from the string and display the result.\n",
    "\n",
    "print(\"Enter the String: \")\n",
    "text = input()\n",
    "\n",
    "vowels = ['a', 'e', 'i', 'o', 'u', 'A', 'E', 'I', 'O', 'U']\n",
    "newtext = \"\"\n",
    "textlen = len(text)\n",
    "\n",
    "for i in range(textlen):\n",
    "    if text[i] not in vowels:\n",
    "        newtext = newtext + text[i]\n",
    "\n",
    "print(\"\\nString after removing Vowels: \")\n",
    "text = newtext\n",
    "print(text)"
   ]
  },
  {
   "cell_type": "code",
   "execution_count": null,
   "id": "6bcec54f",
   "metadata": {},
   "outputs": [],
   "source": []
  }
 ],
 "metadata": {
  "kernelspec": {
   "display_name": "Python 3 (ipykernel)",
   "language": "python",
   "name": "python3"
  },
  "language_info": {
   "codemirror_mode": {
    "name": "ipython",
    "version": 3
   },
   "file_extension": ".py",
   "mimetype": "text/x-python",
   "name": "python",
   "nbconvert_exporter": "python",
   "pygments_lexer": "ipython3",
   "version": "3.9.7"
  }
 },
 "nbformat": 4,
 "nbformat_minor": 5
}
